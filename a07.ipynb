{
 "cells": [
  {
   "cell_type": "code",
   "execution_count": 1,
   "id": "65756348-836c-4880-b192-fe2d1e217245",
   "metadata": {},
   "outputs": [
    {
     "name": "stderr",
     "output_type": "stream",
     "text": [
      "/Users/tanyayousofi/Library/Python/3.9/lib/python/site-packages/urllib3/__init__.py:35: NotOpenSSLWarning: urllib3 v2 only supports OpenSSL 1.1.1+, currently the 'ssl' module is compiled with 'LibreSSL 2.8.3'. See: https://github.com/urllib3/urllib3/issues/3020\n",
      "  warnings.warn(\n"
     ]
    }
   ],
   "source": [
    "import pandas as pd\n",
    "import numpy as np\n",
    "import plotly.express as px\n",
    "from dash import Dash, dcc, html, Input, Output\n",
    "from jupyter_dash import JupyterDash"
   ]
  },
  {
   "cell_type": "code",
   "execution_count": 2,
   "id": "71fa75ea-1aa4-436d-9e6b-d3c3a354eb21",
   "metadata": {},
   "outputs": [],
   "source": [
    "data = [\n",
    "    {'Year': 1930, 'Winner': 'Uruguay', 'RunnerUp': 'Argentina'},\n",
    "    {'Year': 1934, 'Winner': 'Italy', 'RunnerUp': 'Czechoslovakia'},\n",
    "    {'Year': 1938, 'Winner': 'Italy', 'RunnerUp': 'Hungary'},\n",
    "    {'Year': 1950, 'Winner': 'Uruguay', 'RunnerUp': 'Brazil'},\n",
    "    {'Year': 1954, 'Winner': 'Germany', 'RunnerUp': 'Hungary'},\n",
    "    {'Year': 1958, 'Winner': 'Brazil', 'RunnerUp': 'Sweden'},\n",
    "    {'Year': 1962, 'Winner': 'Brazil', 'RunnerUp': 'Czechoslovakia'},\n",
    "    {'Year': 1966, 'Winner': 'England', 'RunnerUp': 'Germany'},\n",
    "    {'Year': 1970, 'Winner': 'Brazil', 'RunnerUp': 'Italy'},\n",
    "    {'Year': 1974, 'Winner': 'Germany', 'RunnerUp': 'Netherlands'},\n",
    "    {'Year': 1978, 'Winner': 'Argentina', 'RunnerUp': 'Netherlands'},\n",
    "    {'Year': 1982, 'Winner': 'Italy', 'RunnerUp': 'Germany'},\n",
    "    {'Year': 1986, 'Winner': 'Argentina', 'RunnerUp': 'Germany'},\n",
    "    {'Year': 1990, 'Winner': 'Germany', 'RunnerUp': 'Argentina'},\n",
    "    {'Year': 1994, 'Winner': 'Brazil', 'RunnerUp': 'Italy'},\n",
    "    {'Year': 1998, 'Winner': 'France', 'RunnerUp': 'Brazil'},\n",
    "    {'Year': 2002, 'Winner': 'Brazil', 'RunnerUp': 'Germany'},\n",
    "    {'Year': 2006, 'Winner': 'Italy', 'RunnerUp': 'France'},\n",
    "    {'Year': 2010, 'Winner': 'Spain', 'RunnerUp': 'Netherlands'},\n",
    "    {'Year': 2014, 'Winner': 'Germany', 'RunnerUp': 'Argentina'},\n",
    "    {'Year': 2018, 'Winner': 'France', 'RunnerUp': 'Croatia'},\n",
    "    {'Year': 2022, 'Winner': 'Argentina', 'RunnerUp': 'France'}\n",
    "]\n",
    "\n",
    "df = pd.DataFrame(data)\n",
    "\n",
    "# Merge West Germany and Germany\n",
    "df['Winner'] = df['Winner'].replace('West Germany', 'Germany')\n",
    "df['RunnerUp'] = df['RunnerUp'].replace('West Germany', 'Germany')"
   ]
  },
  {
   "cell_type": "code",
   "execution_count": 3,
   "id": "abf9cee4-d37e-4b09-9d0d-76a3ec27448a",
   "metadata": {},
   "outputs": [],
   "source": [
    "winners_count = df['Winner'].value_counts().reset_index()\n",
    "winners_count.columns = ['Country', 'Wins']"
   ]
  },
  {
   "cell_type": "code",
   "execution_count": 4,
   "id": "ab7ae968-5ba7-465f-abc5-46323744b096",
   "metadata": {},
   "outputs": [
    {
     "name": "stderr",
     "output_type": "stream",
     "text": [
      "/Users/tanyayousofi/Library/Python/3.9/lib/python/site-packages/dash/dash.py:516: UserWarning: JupyterDash is deprecated, use Dash instead.\n",
      "See https://dash.plotly.com/dash-in-jupyter for more details.\n",
      "  warnings.warn(\n"
     ]
    }
   ],
   "source": [
    "app = JupyterDash(__name__)"
   ]
  },
  {
   "cell_type": "code",
   "execution_count": 5,
   "id": "052df6be-5564-485f-9701-b38e68d40f07",
   "metadata": {},
   "outputs": [],
   "source": [
    "app.layout = html.Div([\n",
    "    html.H1(\"FIFA World Cup Dashboard\", style={'textAlign': 'center'}),\n",
    "\n",
    "    dcc.Dropdown(\n",
    "        id='country-dropdown',\n",
    "        options=[{'label': c, 'value': c} for c in winners_count['Country']],\n",
    "        placeholder=\"Select a country\"\n",
    "    ),\n",
    "    html.Div(id='country-output', style={'margin': '10px'}),\n",
    "\n",
    "    dcc.Dropdown(\n",
    "        id='year-dropdown',\n",
    "        options=[{'label': y, 'value': y} for y in sorted(df['Year'].unique())],\n",
    "        placeholder=\"Select a year\"\n",
    "    ),\n",
    "    html.Div(id='year-output', style={'margin': '10px'}),\n",
    "\n",
    "    dcc.Graph(id='choropleth-map')\n",
    "])"
   ]
  },
  {
   "cell_type": "code",
   "execution_count": 6,
   "id": "bd7e5d7e-aa72-4763-ba6d-a8072ea6da88",
   "metadata": {},
   "outputs": [],
   "source": [
    "@app.callback(\n",
    "    Output('country-output', 'children'),\n",
    "    Input('country-dropdown', 'value')\n",
    ")\n",
    "def show_wins(country):\n",
    "    if country:\n",
    "        wins = winners_count[winners_count['Country'] == country]['Wins'].values[0]\n",
    "        return f\"{country} has won the World Cup {wins} times.\"\n",
    "    return \"\"\n",
    "\n",
    "@app.callback(\n",
    "    Output('year-output', 'children'),\n",
    "    Input('year-dropdown', 'value')\n",
    ")\n",
    "def show_year_result(year):\n",
    "    if year:\n",
    "        row = df[df['Year'] == year].iloc[0]\n",
    "        return f\"In {year}, {row['Winner']} won and {row['RunnerUp']} was runner-up.\"\n",
    "    return \"\""
   ]
  },
  {
   "cell_type": "code",
   "execution_count": 7,
   "id": "9c649ca3-d18f-4fd9-a5ea-2a4b90fe3798",
   "metadata": {},
   "outputs": [],
   "source": [
    "@app.callback(\n",
    "    Output('choropleth-map', 'figure'),\n",
    "    Input('country-dropdown', 'value')\n",
    ")\n",
    "def update_map(selected_country):\n",
    "    fig = px.choropleth(\n",
    "        winners_count,\n",
    "        locations='Country',\n",
    "        locationmode='country names',\n",
    "        color='Wins',\n",
    "        hover_name='Country',\n",
    "        color_continuous_scale='Oranges',\n",
    "        title='World Cup Wins by Country'\n",
    "    )\n",
    "    \n",
    "    # Add country highlight logic\n",
    "    if selected_country:\n",
    "        fig.update_traces(\n",
    "            selector=dict(type='choropleth'),\n",
    "            z=[5 if c == selected_country else w for c, w in zip(winners_count['Country'], winners_count['Wins'])],\n",
    "            showscale=True\n",
    "        )\n",
    "    \n",
    "    fig.update_geos(projection_type=\"natural earth\")\n",
    "    return fig"
   ]
  },
  {
   "cell_type": "code",
   "execution_count": 8,
   "id": "4086a5b8-8633-4b17-8916-fee029b906db",
   "metadata": {},
   "outputs": [
    {
     "data": {
      "text/html": [
       "\n",
       "        <iframe\n",
       "            width=\"100%\"\n",
       "            height=\"650\"\n",
       "            src=\"http://127.0.0.1:8050/\"\n",
       "            frameborder=\"0\"\n",
       "            allowfullscreen\n",
       "            \n",
       "        ></iframe>\n",
       "        "
      ],
      "text/plain": [
       "<IPython.lib.display.IFrame at 0x1079b3eb0>"
      ]
     },
     "metadata": {},
     "output_type": "display_data"
    },
    {
     "data": {
      "text/html": [
       "\n",
       "        <iframe\n",
       "            width=\"100%\"\n",
       "            height=\"650\"\n",
       "            src=\"http://127.0.0.1:8050/\"\n",
       "            frameborder=\"0\"\n",
       "            allowfullscreen\n",
       "            \n",
       "        ></iframe>\n",
       "        "
      ],
      "text/plain": [
       "<IPython.lib.display.IFrame at 0x107b2aa30>"
      ]
     },
     "metadata": {},
     "output_type": "display_data"
    }
   ],
   "source": [
    "app.run_server(mode='inline', debug=False)"
   ]
  },
  {
   "cell_type": "code",
   "execution_count": null,
   "id": "de85f88f-5486-45fe-b323-52dc800876f6",
   "metadata": {},
   "outputs": [],
   "source": []
  }
 ],
 "metadata": {
  "kernelspec": {
   "display_name": "Python 3 (ipykernel)",
   "language": "python",
   "name": "python3"
  },
  "language_info": {
   "codemirror_mode": {
    "name": "ipython",
    "version": 3
   },
   "file_extension": ".py",
   "mimetype": "text/x-python",
   "name": "python",
   "nbconvert_exporter": "python",
   "pygments_lexer": "ipython3",
   "version": "3.9.6"
  }
 },
 "nbformat": 4,
 "nbformat_minor": 5
}
